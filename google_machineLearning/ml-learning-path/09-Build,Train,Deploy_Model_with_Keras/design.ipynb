{
 "cells": [
  {
   "cell_type": "markdown",
   "id": "d3f033da",
   "metadata": {},
   "source": [
    "### 2-3: 성능 최적화의 비밀: prefetch\n",
    "__GPU__ 의 속도가 매우 빨라 컨베이어 벨트가 따라가지 못하는 상황이 있을 수 있다.\n",
    "\n",
    "`prefetch`는 이러한 상황을 막기 위해 GPU의 훈련이 끝나기 전까지 다음 훈련 데이터를 준비한다.\n",
    "\n",
    "**`prefetch`** 를 단순히 파이프라인 마지막에 추가하여 사용 가능!\n",
    "\n",
    "```python\n",
    "# ...\n",
    "dataset = dataset.batch(5)\n",
    "\n",
    "# 파이프라인 마지막에 추가\n",
    "dataset = dataset.prefetch(buffer_size=tf.data.AUTOTUNE)\n",
    "\n",
    "print(\"최종 파이프라인\", dataset)\n",
    "\n",
    "```"
   ]
  },
  {
   "cell_type": "markdown",
   "id": "323a30c8",
   "metadata": {},
   "source": [
    "## 3단계: 모델을 위한 재료 준비 (Feature Engineering)\n",
    "\n",
    "### 3-1: 특성(Feature)이란? (수치형 vs 범주형)\n",
    "\n"
   ]
  },
  {
   "cell_type": "code",
   "execution_count": null,
   "id": "c4ca24d1",
   "metadata": {},
   "outputs": [],
   "source": [
    "\n"
   ]
  },
  {
   "cell_type": "markdown",
   "id": "80836c0f",
   "metadata": {},
   "source": []
  },
  {
   "cell_type": "markdown",
   "id": "d61596c0",
   "metadata": {},
   "source": []
  }
 ],
 "metadata": {
  "kernelspec": {
   "display_name": "Python 3",
   "language": "python",
   "name": "python3"
  },
  "language_info": {
   "name": "python",
   "version": "3.11.9"
  }
 },
 "nbformat": 4,
 "nbformat_minor": 5
}
